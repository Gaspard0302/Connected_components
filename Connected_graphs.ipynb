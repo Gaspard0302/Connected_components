{
 "cells": [
  {
   "cell_type": "markdown",
   "metadata": {},
   "source": [
    "# Course project - Database Management MAP543\n",
    "***\n",
    "In the following, we explore an efficient and scalable approach in MapReduce to find all the connected components in a given graph. Finding connected components in a graph is a well-known problem in a wide variety of application areas such as social network analysis, data mining, image processing ...\n",
    "\n",
    "•The algorithm is descibed in this [paper](https://www.cse.unr.edu/~hkardes/pdfs/ccf.pdf)\n",
    "\n",
    "•The work to consists of understanding the MapReduce algorithm, and coding it into Spark by using both RDD and DataFrames \n",
    "\n",
    "•Both Python and Scala implementations must be provided,  \n",
    "\n",
    "•Experimental analysis comparing the RDD and DataFrame versions has to be conducted on graphs of increasing size \n",
    "\n",
    "•For small graphs use Databricks, for bigger ones (<20GB) use the GC cluster.\n"
   ]
  },
  {
   "cell_type": "markdown",
   "metadata": {},
   "source": [
    "A graph is a mathematical structure used to model relationships between objects. It consists of a set of nodes and a set of edges that connect pairs of nodes.\n",
    "\n",
    "A graph is said to be connected if for every pair of vertices in a graph, there exists a sequence of edges that forms a path between those vertices.\n",
    "\n",
    "We chose to use the [Web Google graph](http://snap.stanford.edu/data/web-Google.html) released in 2002 by Google. There are 875K nodes and 5.1M edges in this graph. Nodes represent web pages and directed edges represent hyperlinks between them.\n",
    "\n",
    "\n",
    "[LiveJournal](https://snap.stanford.edu/data/soc-LiveJournal1.html) is a free on-line community with almost 10 million members; a significant fraction of these members are highly active. (For example, roughly 300,000 update their content in any given 24-hour period.) LiveJournal allows members to maintain journals, individual and group blogs, and it allows people to declare which other members are their friends they belong. It has 484k nodes and 68.9M edges."
   ]
  },
  {
   "cell_type": "code",
   "execution_count": 49,
   "metadata": {},
   "outputs": [],
   "source": [
    "import os\n",
    "from pyspark import SparkContext, SparkConf\n",
    "from pyspark.rdd import RDD\n",
    "import time\n",
    "from typing import Tuple\n",
    "\n",
    "# Set the absolute path to your JDK installation\n",
    "os.environ['JAVA_HOME'] = '/Library/Java/JavaVirtualMachines/jdk-22.jdk/Contents/Home'\n",
    "\n",
    "# Configure and initialize Spark\n",
    "conf = SparkConf().setAppName(\"Connected_Components\").setMaster(\"local\")\n",
    "sc = SparkContext(conf=conf)"
   ]
  },
  {
   "cell_type": "markdown",
   "metadata": {},
   "source": [
    "# Import Data"
   ]
  },
  {
   "cell_type": "code",
   "execution_count": 50,
   "metadata": {},
   "outputs": [],
   "source": [
    "file_path = \"/Users/gaspardhassenforder/Documents/X/Database Management/Project_Connected_graphs/web-Google.txt.gz\"\n",
    "data_google = sc.textFile(file_path)\n",
    "\n",
    "file_path = \"/Users/gaspardhassenforder/Documents/X/Database Management/Project_Connected_graphs/soc-LiveJournal1.txt.gz\"\n",
    "data_livejournal = sc.textFile(file_path)\n",
    "\n",
    "# clean the data, since from same source they have the same format\n",
    "def clean_google(x: str) -> Tuple[int, int]:\n",
    "    if \"#\" in x:\n",
    "        return None\n",
    "    else:\n",
    "        return tuple(map(int, x.split(\"\\t\")))\n",
    "    \n",
    "data_google = data_google.map(clean_google).filter(lambda x: x is not None)\n",
    "data_livejournal = data_livejournal.map(clean_google).filter(lambda x: x is not None)\n",
    "\n"
   ]
  },
  {
   "cell_type": "markdown",
   "metadata": {},
   "source": [
    "# Techniques from paper\n",
    "\n",
    "## CCF-Iterate"
   ]
  },
  {
   "cell_type": "code",
   "execution_count": 51,
   "metadata": {},
   "outputs": [],
   "source": [
    "\n",
    "########## Correct\n",
    "from pyspark import RDD\n",
    "\n",
    "def ccf_iterate(rdd: RDD) -> Tuple[RDD, int]:\n",
    "    # Inverting the RDD pairs and merging with the original RDD\n",
    "    inverted_rdd = rdd.map(lambda pair: (pair[1], pair[0]))\n",
    "    full_graph = rdd.union(inverted_rdd).groupByKey().mapValues(list).partitionBy(100).cache()\n",
    "\n",
    "    # Processing the graph: converting to integers, extracting min, and filtering\n",
    "    processed_graph = (\n",
    "        full_graph\n",
    "        .map(lambda node: (int(node[0]), list(map(int, node[1]))))  # Ensure all are integers\n",
    "        .map(lambda node: (node[0], node[1], min(node[1])))  # Attach minimum value from list\n",
    "        .filter(lambda node: node[0] > node[2])  # Condition to filter nodes\n",
    "        .map(lambda node: (node[0], [value for value in node[1] if value != node[2]], node[2]))  # Remove min value from list\n",
    "    )\n",
    "\n",
    "    # Summing the lengths of the modified lists to count new pairs\n",
    "    total_new_pairs = processed_graph.map(lambda node: len(node[1])).sum()\n",
    "\n",
    "    # Emitting pairs for final output and deduplication\n",
    "    initial_emit = processed_graph.map(lambda node: (node[0], node[2]))\n",
    "    expanded_emit = processed_graph.flatMap(lambda node: [(value, node[2]) for value in node[1]])\n",
    "    all_emits = initial_emit.union(expanded_emit)\n",
    "\n",
    "    # Final deduplication and preparation of output\n",
    "    unique_pairs = (\n",
    "        all_emits\n",
    "        .map(lambda pair: ((pair[0], pair[1]), None))\n",
    "        .reduceByKey(lambda x, _: x)  # Using _ for unused variable in lambda\n",
    "        .map(lambda pair: pair[0])\n",
    "    )\n",
    "\n",
    "    return unique_pairs, total_new_pairs\n",
    "\n"
   ]
  },
  {
   "cell_type": "markdown",
   "metadata": {},
   "source": [
    "## CCF- Iterate with secondary sorting"
   ]
  },
  {
   "cell_type": "code",
   "execution_count": 52,
   "metadata": {},
   "outputs": [],
   "source": [
    "\n",
    "\n",
    "def ccf_iterate_sorting(rdd: RDD) -> Tuple[RDD, int]:\n",
    "    # Invert and merge to form a graph, then organize by key\n",
    "    inverted_rdd = rdd.map(lambda pair: (pair[1], pair[0]))\n",
    "    combined_graph = rdd.union(inverted_rdd).groupByKey().mapValues(list).partitionBy(100).cache()\n",
    "\n",
    "    # Clean and prepare the graph\n",
    "    prepared_graph = (\n",
    "        combined_graph\n",
    "        .map(lambda node: (int(node[0]), sorted(set(map(int, node[1])))))  # Ensure uniqueness and sort\n",
    "        .map(lambda node: (node[0], node[1], node[1][0]))  # Attach min value\n",
    "        .filter(lambda node: node[0] > node[2])  # Filter based on condition\n",
    "        .map(lambda node: (node[0], node[1][1:], node[2]))  # Update list by removing min\n",
    "    )\n",
    "\n",
    "    # Calculate the new pairs and prepare for further actions\n",
    "    count_new_pairs = prepared_graph.map(lambda node: len(node[1])).sum()\n",
    "    first_emit = prepared_graph.map(lambda node: (node[0], node[2]))\n",
    "    second_emit = prepared_graph.flatMap(lambda node: [(value, node[2]) for value in node[1]])\n",
    "    total_emission = first_emit.union(second_emit)\n",
    "\n",
    "    # Deduplicate pairs\n",
    "    deduplicated_pairs = (\n",
    "        total_emission\n",
    "        .map(lambda pair: ((pair[0], pair[1]), None))\n",
    "        .reduceByKey(lambda x, y: x)\n",
    "        .map(lambda pair: (pair[0][0], pair[0][1]))\n",
    "    )\n",
    "\n",
    "    return deduplicated_pairs, count_new_pairs\n"
   ]
  },
  {
   "cell_type": "markdown",
   "metadata": {},
   "source": [
    "# Apply techniques"
   ]
  },
  {
   "cell_type": "code",
   "execution_count": 53,
   "metadata": {},
   "outputs": [],
   "source": [
    "def find_connected_components(graph, method):\n",
    "    start_time = time.time()\n",
    "    new_pairs = 1\n",
    "    iter = 0\n",
    "    while new_pairs != 0:\n",
    "        print(method.__name__)\n",
    "        \n",
    "        try:\n",
    "            graph, new_pairs = method(graph)\n",
    "        except Exception as e:\n",
    "            print(\"Method not found or failed with error:\", e)\n",
    "            break\n",
    "            \n",
    "        print(\"Iteration: \", iter, \" - New pairs: \", new_pairs)\n",
    "        \n",
    "        iter += 1\n",
    "        \n",
    "    n_components = graph.map(lambda x : x[1]).distinct().count()\n",
    "    end_time = time.time()\n",
    "    return graph, iter - 1, n_components, end_time - start_time"
   ]
  },
  {
   "cell_type": "code",
   "execution_count": 54,
   "metadata": {},
   "outputs": [],
   "source": [
    "# Initialize an empty dictionary\n",
    "results = {}\n",
    "methods = [ccf_iterate, ccf_iterate_sorting]\n"
   ]
  },
  {
   "cell_type": "code",
   "execution_count": 55,
   "metadata": {},
   "outputs": [
    {
     "name": "stdout",
     "output_type": "stream",
     "text": [
      "ccf_iterate_sorting\n"
     ]
    },
    {
     "name": "stderr",
     "output_type": "stream",
     "text": [
      "                                                                                \r"
     ]
    },
    {
     "name": "stdout",
     "output_type": "stream",
     "text": [
      "Iteration:  0  - New pairs:  7223780\n",
      "ccf_iterate_sorting\n"
     ]
    },
    {
     "name": "stderr",
     "output_type": "stream",
     "text": [
      "                                                                                \r"
     ]
    },
    {
     "name": "stdout",
     "output_type": "stream",
     "text": [
      "Iteration:  1  - New pairs:  4758451\n",
      "ccf_iterate_sorting\n"
     ]
    },
    {
     "name": "stderr",
     "output_type": "stream",
     "text": [
      "                                                                                \r"
     ]
    },
    {
     "name": "stdout",
     "output_type": "stream",
     "text": [
      "Iteration:  2  - New pairs:  3278772\n",
      "ccf_iterate_sorting\n"
     ]
    },
    {
     "name": "stderr",
     "output_type": "stream",
     "text": [
      "                                                                                \r"
     ]
    },
    {
     "name": "stdout",
     "output_type": "stream",
     "text": [
      "Iteration:  3  - New pairs:  3888454\n",
      "ccf_iterate_sorting\n"
     ]
    },
    {
     "name": "stderr",
     "output_type": "stream",
     "text": [
      "                                                                                \r"
     ]
    },
    {
     "name": "stdout",
     "output_type": "stream",
     "text": [
      "Iteration:  4  - New pairs:  1905323\n",
      "ccf_iterate_sorting\n"
     ]
    },
    {
     "name": "stderr",
     "output_type": "stream",
     "text": [
      "                                                                                \r"
     ]
    },
    {
     "name": "stdout",
     "output_type": "stream",
     "text": [
      "Iteration:  5  - New pairs:  86783\n",
      "ccf_iterate_sorting\n"
     ]
    },
    {
     "name": "stderr",
     "output_type": "stream",
     "text": [
      "                                                                                \r"
     ]
    },
    {
     "name": "stdout",
     "output_type": "stream",
     "text": [
      "Iteration:  6  - New pairs:  1318\n",
      "ccf_iterate_sorting\n"
     ]
    },
    {
     "name": "stderr",
     "output_type": "stream",
     "text": [
      "                                                                                \r"
     ]
    },
    {
     "name": "stdout",
     "output_type": "stream",
     "text": [
      "Iteration:  7  - New pairs:  0\n"
     ]
    },
    {
     "name": "stderr",
     "output_type": "stream",
     "text": [
      "[Stage 133:=================================================>   (188 + 1) / 200]\r"
     ]
    },
    {
     "name": "stdout",
     "output_type": "stream",
     "text": [
      "ccf_iterate_sorting took 458.6533269882202 seconds and 7 iterations to complete, and found 2746 components in graph:\n"
     ]
    },
    {
     "name": "stderr",
     "output_type": "stream",
     "text": [
      "                                                                                \r"
     ]
    }
   ],
   "source": [
    "# For google data\n",
    "\n",
    "for method in methods:\n",
    "    result_google, num_iter, n_components, time_taken = find_connected_components(data_google, method)\n",
    "    results[\"Google\"] = [time_taken, num_iter, method]\n",
    "    print(f\"{method.__name__} took {time_taken} seconds and {num_iter} iterations to complete, and found {n_components} components in graph:\")\n",
    "\n"
   ]
  },
  {
   "cell_type": "code",
   "execution_count": 11,
   "metadata": {},
   "outputs": [
    {
     "name": "stdout",
     "output_type": "stream",
     "text": [
      "optimized_ccf_iterate\n"
     ]
    },
    {
     "name": "stderr",
     "output_type": "stream",
     "text": [
      "24/04/10 17:20:09 WARN MemoryStore: Not enough space to cache rdd_318_96 in memory! (computed 1106.6 KiB so far)\n",
      "24/04/10 17:20:09 WARN BlockManager: Block rdd_318_96 could not be removed as it was not found on disk or in memory\n",
      "24/04/10 17:20:09 WARN BlockManager: Putting block rdd_318_96 failed\n",
      "24/04/10 17:20:09 WARN MemoryStore: Not enough space to cache rdd_318_97 in memory! (computed 1038.7 KiB so far)\n",
      "24/04/10 17:20:09 WARN BlockManager: Block rdd_318_97 could not be removed as it was not found on disk or in memory\n",
      "24/04/10 17:20:09 WARN BlockManager: Putting block rdd_318_97 failed\n",
      "24/04/10 17:20:09 WARN MemoryStore: Not enough space to cache rdd_318_98 in memory! (computed 1116.4 KiB so far)\n",
      "24/04/10 17:20:09 WARN BlockManager: Block rdd_318_98 could not be removed as it was not found on disk or in memory\n",
      "24/04/10 17:20:09 WARN BlockManager: Putting block rdd_318_98 failed\n",
      "24/04/10 17:20:10 WARN MemoryStore: Not enough space to cache rdd_318_99 in memory! (computed 1057.4 KiB so far)\n",
      "24/04/10 17:20:10 WARN BlockManager: Block rdd_318_99 could not be removed as it was not found on disk or in memory\n",
      "24/04/10 17:20:10 WARN BlockManager: Putting block rdd_318_99 failed\n",
      "                                                                                \r"
     ]
    },
    {
     "name": "stdout",
     "output_type": "stream",
     "text": [
      "Iteration:  0  - New pairs:  130613477\n",
      "optimized_ccf_iterate\n"
     ]
    },
    {
     "name": "stderr",
     "output_type": "stream",
     "text": [
      "24/04/10 17:23:01 WARN MemoryStore: Not enough space to cache rdd_318_96 in memory! (computed 1106.6 KiB so far)\n",
      "24/04/10 17:23:01 WARN BlockManager: Block rdd_318_96 could not be removed as it was not found on disk or in memory\n",
      "24/04/10 17:23:01 WARN BlockManager: Putting block rdd_318_96 failed\n",
      "24/04/10 17:23:01 WARN MemoryStore: Not enough space to cache rdd_318_97 in memory! (computed 1038.7 KiB so far)\n",
      "24/04/10 17:23:01 WARN BlockManager: Block rdd_318_97 could not be removed as it was not found on disk or in memory\n",
      "24/04/10 17:23:01 WARN BlockManager: Putting block rdd_318_97 failed\n",
      "24/04/10 17:23:01 WARN MemoryStore: Not enough space to cache rdd_318_98 in memory! (computed 1116.4 KiB so far)\n",
      "24/04/10 17:23:01 WARN BlockManager: Block rdd_318_98 could not be removed as it was not found on disk or in memory\n",
      "24/04/10 17:23:01 WARN BlockManager: Putting block rdd_318_98 failed\n",
      "24/04/10 17:23:01 WARN MemoryStore: Not enough space to cache rdd_318_99 in memory! (computed 1057.4 KiB so far)\n",
      "24/04/10 17:23:01 WARN BlockManager: Block rdd_318_99 could not be removed as it was not found on disk or in memory\n",
      "24/04/10 17:23:01 WARN BlockManager: Putting block rdd_318_99 failed\n",
      "24/04/10 17:23:02 WARN MemoryStore: Not enough space to cache rdd_318_96 in memory! (computed 1106.6 KiB so far)\n",
      "24/04/10 17:23:02 WARN BlockManager: Block rdd_318_96 could not be removed as it was not found on disk or in memory\n",
      "24/04/10 17:23:02 WARN BlockManager: Putting block rdd_318_96 failed\n",
      "24/04/10 17:23:03 WARN MemoryStore: Not enough space to cache rdd_318_97 in memory! (computed 1038.7 KiB so far)\n",
      "24/04/10 17:23:03 WARN BlockManager: Block rdd_318_97 could not be removed as it was not found on disk or in memory\n",
      "24/04/10 17:23:03 WARN BlockManager: Putting block rdd_318_97 failed\n",
      "24/04/10 17:23:05 WARN MemoryStore: Not enough space to cache rdd_318_98 in memory! (computed 1116.4 KiB so far)\n",
      "24/04/10 17:23:05 WARN BlockManager: Block rdd_318_98 could not be removed as it was not found on disk or in memory\n",
      "24/04/10 17:23:05 WARN BlockManager: Putting block rdd_318_98 failed\n",
      "24/04/10 17:23:06 WARN MemoryStore: Not enough space to cache rdd_318_99 in memory! (computed 1057.4 KiB so far)\n",
      "24/04/10 17:23:06 WARN BlockManager: Block rdd_318_99 could not be removed as it was not found on disk or in memory\n",
      "24/04/10 17:23:06 WARN BlockManager: Putting block rdd_318_99 failed\n",
      "24/04/10 17:27:12 WARN MemoryStore: Not enough space to cache rdd_337_90 in memory! (computed 3.9 MiB so far)\n",
      "24/04/10 17:27:12 WARN BlockManager: Block rdd_337_90 could not be removed as it was not found on disk or in memory\n",
      "24/04/10 17:27:12 WARN BlockManager: Putting block rdd_337_90 failed\n",
      "24/04/10 17:27:13 WARN MemoryStore: Not enough space to cache rdd_337_91 in memory! (computed 3.8 MiB so far)\n",
      "24/04/10 17:27:13 WARN BlockManager: Block rdd_337_91 could not be removed as it was not found on disk or in memory\n",
      "24/04/10 17:27:13 WARN BlockManager: Putting block rdd_337_91 failed\n",
      "24/04/10 17:27:13 WARN MemoryStore: Not enough space to cache rdd_337_92 in memory! (computed 3.9 MiB so far)\n",
      "24/04/10 17:27:13 WARN BlockManager: Block rdd_337_92 could not be removed as it was not found on disk or in memory\n",
      "24/04/10 17:27:13 WARN BlockManager: Putting block rdd_337_92 failed\n",
      "24/04/10 17:27:13 WARN MemoryStore: Not enough space to cache rdd_337_93 in memory! (computed 3.8 MiB so far)\n",
      "24/04/10 17:27:13 WARN BlockManager: Block rdd_337_93 could not be removed as it was not found on disk or in memory\n",
      "24/04/10 17:27:13 WARN BlockManager: Putting block rdd_337_93 failed\n",
      "24/04/10 17:27:13 WARN MemoryStore: Not enough space to cache rdd_337_94 in memory! (computed 4.4 MiB so far)\n",
      "24/04/10 17:27:13 WARN BlockManager: Block rdd_337_94 could not be removed as it was not found on disk or in memory\n",
      "24/04/10 17:27:13 WARN BlockManager: Putting block rdd_337_94 failed\n",
      "24/04/10 17:27:13 WARN MemoryStore: Not enough space to cache rdd_337_95 in memory! (computed 4.2 MiB so far)\n",
      "24/04/10 17:27:13 WARN BlockManager: Block rdd_337_95 could not be removed as it was not found on disk or in memory\n",
      "24/04/10 17:27:13 WARN BlockManager: Putting block rdd_337_95 failed\n",
      "24/04/10 17:27:13 WARN MemoryStore: Not enough space to cache rdd_337_96 in memory! (computed 4.1 MiB so far)\n",
      "24/04/10 17:27:13 WARN BlockManager: Block rdd_337_96 could not be removed as it was not found on disk or in memory\n",
      "24/04/10 17:27:13 WARN BlockManager: Putting block rdd_337_96 failed + 1) / 100]\n",
      "24/04/10 17:27:13 WARN MemoryStore: Not enough space to cache rdd_337_97 in memory! (computed 4.3 MiB so far)\n",
      "24/04/10 17:27:13 WARN BlockManager: Block rdd_337_97 could not be removed as it was not found on disk or in memory\n",
      "24/04/10 17:27:13 WARN BlockManager: Putting block rdd_337_97 failed\n",
      "24/04/10 17:27:14 WARN MemoryStore: Not enough space to cache rdd_337_98 in memory! (computed 4.0 MiB so far)\n",
      "24/04/10 17:27:14 WARN BlockManager: Block rdd_337_98 could not be removed as it was not found on disk or in memory\n",
      "24/04/10 17:27:14 WARN BlockManager: Putting block rdd_337_98 failed\n",
      "24/04/10 17:27:14 WARN MemoryStore: Not enough space to cache rdd_337_99 in memory! (computed 4.0 MiB so far)\n",
      "24/04/10 17:27:14 WARN BlockManager: Block rdd_337_99 could not be removed as it was not found on disk or in memory\n",
      "24/04/10 17:27:14 WARN BlockManager: Putting block rdd_337_99 failed\n",
      "                                                                                \r"
     ]
    },
    {
     "name": "stdout",
     "output_type": "stream",
     "text": [
      "Iteration:  1  - New pairs:  109741265\n",
      "optimized_ccf_iterate\n"
     ]
    },
    {
     "name": "stderr",
     "output_type": "stream",
     "text": [
      "24/04/10 17:30:14 WARN MemoryStore: Not enough space to cache rdd_337_90 in memory! (computed 3.9 MiB so far)\n",
      "24/04/10 17:30:14 WARN BlockManager: Block rdd_337_90 could not be removed as it was not found on disk or in memory\n",
      "24/04/10 17:30:14 WARN BlockManager: Putting block rdd_337_90 failed\n",
      "24/04/10 17:30:14 WARN MemoryStore: Not enough space to cache rdd_337_91 in memory! (computed 3.8 MiB so far)\n",
      "24/04/10 17:30:14 WARN BlockManager: Block rdd_337_91 could not be removed as it was not found on disk or in memory\n",
      "24/04/10 17:30:14 WARN BlockManager: Putting block rdd_337_91 failed\n",
      "24/04/10 17:30:15 WARN MemoryStore: Not enough space to cache rdd_337_92 in memory! (computed 3.9 MiB so far)\n",
      "24/04/10 17:30:15 WARN BlockManager: Block rdd_337_92 could not be removed as it was not found on disk or in memory\n",
      "24/04/10 17:30:15 WARN BlockManager: Putting block rdd_337_92 failed\n",
      "24/04/10 17:30:15 WARN MemoryStore: Not enough space to cache rdd_337_93 in memory! (computed 3.8 MiB so far)\n",
      "24/04/10 17:30:15 WARN BlockManager: Block rdd_337_93 could not be removed as it was not found on disk or in memory\n",
      "24/04/10 17:30:15 WARN BlockManager: Putting block rdd_337_93 failed\n",
      "24/04/10 17:30:15 WARN MemoryStore: Not enough space to cache rdd_337_94 in memory! (computed 4.4 MiB so far)\n",
      "24/04/10 17:30:15 WARN BlockManager: Block rdd_337_94 could not be removed as it was not found on disk or in memory\n",
      "24/04/10 17:30:15 WARN BlockManager: Putting block rdd_337_94 failed\n",
      "24/04/10 17:30:16 WARN MemoryStore: Not enough space to cache rdd_337_95 in memory! (computed 4.2 MiB so far)\n",
      "24/04/10 17:30:16 WARN BlockManager: Block rdd_337_95 could not be removed as it was not found on disk or in memory\n",
      "24/04/10 17:30:16 WARN BlockManager: Putting block rdd_337_95 failed\n",
      "24/04/10 17:30:16 WARN MemoryStore: Not enough space to cache rdd_337_96 in memory! (computed 4.1 MiB so far)\n",
      "24/04/10 17:30:16 WARN BlockManager: Block rdd_337_96 could not be removed as it was not found on disk or in memory\n",
      "24/04/10 17:30:16 WARN BlockManager: Putting block rdd_337_96 failed\n",
      "24/04/10 17:30:16 WARN MemoryStore: Not enough space to cache rdd_337_97 in memory! (computed 4.3 MiB so far)\n",
      "24/04/10 17:30:16 WARN BlockManager: Block rdd_337_97 could not be removed as it was not found on disk or in memory\n",
      "24/04/10 17:30:16 WARN BlockManager: Putting block rdd_337_97 failed\n",
      "24/04/10 17:30:17 WARN MemoryStore: Not enough space to cache rdd_337_98 in memory! (computed 4.0 MiB so far)\n",
      "24/04/10 17:30:17 WARN BlockManager: Block rdd_337_98 could not be removed as it was not found on disk or in memory\n",
      "24/04/10 17:30:17 WARN BlockManager: Putting block rdd_337_98 failed\n",
      "24/04/10 17:30:17 WARN MemoryStore: Not enough space to cache rdd_337_99 in memory! (computed 4.0 MiB so far)\n",
      "24/04/10 17:30:17 WARN BlockManager: Block rdd_337_99 could not be removed as it was not found on disk or in memory\n",
      "24/04/10 17:30:17 WARN BlockManager: Putting block rdd_337_99 failed\n",
      "24/04/10 17:30:18 WARN MemoryStore: Not enough space to cache rdd_337_90 in memory! (computed 3.9 MiB so far)\n",
      "24/04/10 17:30:18 WARN BlockManager: Block rdd_337_90 could not be removed as it was not found on disk or in memory\n",
      "24/04/10 17:30:18 WARN BlockManager: Putting block rdd_337_90 failed\n",
      "24/04/10 17:30:19 WARN MemoryStore: Not enough space to cache rdd_337_91 in memory! (computed 3.8 MiB so far)\n",
      "24/04/10 17:30:19 WARN BlockManager: Block rdd_337_91 could not be removed as it was not found on disk or in memory\n",
      "24/04/10 17:30:19 WARN BlockManager: Putting block rdd_337_91 failed\n",
      "24/04/10 17:30:21 WARN MemoryStore: Not enough space to cache rdd_337_92 in memory! (computed 3.9 MiB so far)\n",
      "24/04/10 17:30:21 WARN BlockManager: Block rdd_337_92 could not be removed as it was not found on disk or in memory\n",
      "24/04/10 17:30:21 WARN BlockManager: Putting block rdd_337_92 failed\n",
      "24/04/10 17:30:23 WARN MemoryStore: Not enough space to cache rdd_337_93 in memory! (computed 3.8 MiB so far)\n",
      "24/04/10 17:30:23 WARN BlockManager: Block rdd_337_93 could not be removed as it was not found on disk or in memory\n",
      "24/04/10 17:30:23 WARN BlockManager: Putting block rdd_337_93 failed\n",
      "24/04/10 17:30:24 WARN MemoryStore: Not enough space to cache rdd_337_94 in memory! (computed 4.4 MiB so far)\n",
      "24/04/10 17:30:24 WARN BlockManager: Block rdd_337_94 could not be removed as it was not found on disk or in memory\n",
      "24/04/10 17:30:24 WARN BlockManager: Putting block rdd_337_94 failed\n",
      "24/04/10 17:30:26 WARN MemoryStore: Not enough space to cache rdd_337_95 in memory! (computed 4.2 MiB so far)\n",
      "24/04/10 17:30:26 WARN BlockManager: Block rdd_337_95 could not be removed as it was not found on disk or in memory\n",
      "24/04/10 17:30:26 WARN BlockManager: Putting block rdd_337_95 failed\n",
      "24/04/10 17:30:28 WARN MemoryStore: Not enough space to cache rdd_337_96 in memory! (computed 4.1 MiB so far)\n",
      "24/04/10 17:30:28 WARN BlockManager: Block rdd_337_96 could not be removed as it was not found on disk or in memory\n",
      "24/04/10 17:30:28 WARN BlockManager: Putting block rdd_337_96 failed\n",
      "24/04/10 17:30:30 WARN MemoryStore: Not enough space to cache rdd_337_97 in memory! (computed 4.3 MiB so far)\n",
      "24/04/10 17:30:30 WARN BlockManager: Block rdd_337_97 could not be removed as it was not found on disk or in memory\n",
      "24/04/10 17:30:30 WARN BlockManager: Putting block rdd_337_97 failed\n",
      "24/04/10 17:30:32 WARN MemoryStore: Not enough space to cache rdd_337_98 in memory! (computed 4.0 MiB so far)\n",
      "24/04/10 17:30:32 WARN BlockManager: Block rdd_337_98 could not be removed as it was not found on disk or in memory\n",
      "24/04/10 17:30:32 WARN BlockManager: Putting block rdd_337_98 failed\n",
      "24/04/10 17:30:33 WARN MemoryStore: Not enough space to cache rdd_337_99 in memory! (computed 4.0 MiB so far)\n",
      "24/04/10 17:30:33 WARN BlockManager: Block rdd_337_99 could not be removed as it was not found on disk or in memory\n",
      "24/04/10 17:30:33 WARN BlockManager: Putting block rdd_337_99 failed\n",
      "                                                                                \r"
     ]
    },
    {
     "name": "stdout",
     "output_type": "stream",
     "text": [
      "Iteration:  2  - New pairs:  95032863\n",
      "optimized_ccf_iterate\n"
     ]
    },
    {
     "name": "stderr",
     "output_type": "stream",
     "text": [
      "                                                                                \r"
     ]
    },
    {
     "name": "stdout",
     "output_type": "stream",
     "text": [
      "Iteration:  3  - New pairs:  9334607\n",
      "optimized_ccf_iterate\n"
     ]
    },
    {
     "name": "stderr",
     "output_type": "stream",
     "text": [
      "                                                                                \r"
     ]
    },
    {
     "name": "stdout",
     "output_type": "stream",
     "text": [
      "Iteration:  4  - New pairs:  16906\n",
      "optimized_ccf_iterate\n"
     ]
    },
    {
     "name": "stderr",
     "output_type": "stream",
     "text": [
      "                                                                                \r"
     ]
    },
    {
     "name": "stdout",
     "output_type": "stream",
     "text": [
      "Iteration:  5  - New pairs:  44\n",
      "optimized_ccf_iterate\n"
     ]
    },
    {
     "name": "stderr",
     "output_type": "stream",
     "text": [
      "                                                                                \r"
     ]
    },
    {
     "name": "stdout",
     "output_type": "stream",
     "text": [
      "Iteration:  6  - New pairs:  0\n"
     ]
    },
    {
     "name": "stderr",
     "output_type": "stream",
     "text": [
      "                                                                                \r"
     ]
    },
    {
     "name": "stdout",
     "output_type": "stream",
     "text": [
      "optimized_ccf_iterate took 1585.754937171936 seconds and 6 iterations to complete, and found 914 components in graph:\n",
      "ccf_iterate_sorting\n"
     ]
    },
    {
     "name": "stderr",
     "output_type": "stream",
     "text": [
      "24/04/10 17:47:09 WARN MemoryStore: Failed to reserve initial memory threshold of 1024.0 KiB for computing block rdd_455_96 in memory.\n",
      "24/04/10 17:47:09 WARN MemoryStore: Not enough space to cache rdd_455_96 in memory! (computed 0.0 B so far)\n",
      "24/04/10 17:47:09 WARN BlockManager: Block rdd_455_96 could not be removed as it was not found on disk or in memory\n",
      "24/04/10 17:47:09 WARN BlockManager: Putting block rdd_455_96 failed\n",
      "24/04/10 17:47:09 WARN MemoryStore: Failed to reserve initial memory threshold of 1024.0 KiB for computing block rdd_455_97 in memory.\n",
      "24/04/10 17:47:09 WARN MemoryStore: Not enough space to cache rdd_455_97 in memory! (computed 0.0 B so far)\n",
      "24/04/10 17:47:09 WARN BlockManager: Block rdd_455_97 could not be removed as it was not found on disk or in memory\n",
      "24/04/10 17:47:09 WARN BlockManager: Putting block rdd_455_97 failed\n",
      "24/04/10 17:47:10 WARN MemoryStore: Failed to reserve initial memory threshold of 1024.0 KiB for computing block rdd_455_98 in memory.\n",
      "24/04/10 17:47:10 WARN MemoryStore: Not enough space to cache rdd_455_98 in memory! (computed 0.0 B so far)\n",
      "24/04/10 17:47:10 WARN BlockManager: Block rdd_455_98 could not be removed as it was not found on disk or in memory\n",
      "24/04/10 17:47:10 WARN BlockManager: Putting block rdd_455_98 failed\n",
      "24/04/10 17:47:10 WARN MemoryStore: Failed to reserve initial memory threshold of 1024.0 KiB for computing block rdd_455_99 in memory.\n",
      "24/04/10 17:47:10 WARN MemoryStore: Not enough space to cache rdd_455_99 in memory! (computed 0.0 B so far)\n",
      "24/04/10 17:47:10 WARN BlockManager: Block rdd_455_99 could not be removed as it was not found on disk or in memory\n",
      "24/04/10 17:47:10 WARN BlockManager: Putting block rdd_455_99 failed\n",
      "24/04/10 17:47:10 WARN MemoryStore: Not enough space to cache rdd_455_0 in memory! (computed 3.9 MiB so far)\n",
      "24/04/10 17:47:10 WARN BlockManager: Block rdd_455_0 could not be removed as it was not found on disk or in memory\n",
      "24/04/10 17:47:10 WARN BlockManager: Putting block rdd_455_0 failed\n"
     ]
    },
    {
     "name": "stdout",
     "output_type": "stream",
     "text": [
      "Iteration:  0  - New pairs:  81353582\n",
      "ccf_iterate_sorting\n"
     ]
    },
    {
     "name": "stderr",
     "output_type": "stream",
     "text": [
      "24/04/10 17:47:38 WARN MemoryStore: Not enough space to cache rdd_455_0 in memory! (computed 3.9 MiB so far)\n",
      "24/04/10 17:47:38 WARN BlockManager: Block rdd_455_0 could not be removed as it was not found on disk or in memory\n",
      "24/04/10 17:47:38 WARN BlockManager: Putting block rdd_455_0 failed\n",
      "24/04/10 17:53:12 WARN MemoryStore: Not enough space to cache rdd_455_96 in memory! (computed 3.8 MiB so far)\n",
      "24/04/10 17:53:12 WARN BlockManager: Block rdd_455_96 could not be removed as it was not found on disk or in memory\n",
      "24/04/10 17:53:12 WARN BlockManager: Putting block rdd_455_96 failed\n",
      "24/04/10 17:53:13 WARN MemoryStore: Failed to reserve initial memory threshold of 1024.0 KiB for computing block rdd_455_98 in memory.\n",
      "24/04/10 17:53:13 WARN MemoryStore: Not enough space to cache rdd_455_98 in memory! (computed 0.0 B so far)\n",
      "24/04/10 17:53:13 WARN BlockManager: Block rdd_455_98 could not be removed as it was not found on disk or in memory\n",
      "24/04/10 17:53:13 WARN BlockManager: Putting block rdd_455_98 failed\n",
      "24/04/10 17:53:13 WARN MemoryStore: Failed to reserve initial memory threshold of 1024.0 KiB for computing block rdd_455_99 in memory.\n",
      "24/04/10 17:53:13 WARN MemoryStore: Not enough space to cache rdd_455_99 in memory! (computed 0.0 B so far)\n",
      "24/04/10 17:53:13 WARN BlockManager: Block rdd_455_99 could not be removed as it was not found on disk or in memory\n",
      "24/04/10 17:53:13 WARN BlockManager: Putting block rdd_455_99 failed\n",
      "24/04/10 17:53:13 WARN MemoryStore: Failed to reserve initial memory threshold of 1024.0 KiB for computing block rdd_455_96 in memory.\n",
      "24/04/10 17:53:13 WARN MemoryStore: Not enough space to cache rdd_455_96 in memory! (computed 0.0 B so far)\n",
      "24/04/10 17:53:13 WARN BlockManager: Block rdd_455_96 could not be removed as it was not found on disk or in memory\n",
      "24/04/10 17:53:13 WARN BlockManager: Putting block rdd_455_96 failed\n",
      "24/04/10 17:53:17 WARN MemoryStore: Failed to reserve initial memory threshold of 1024.0 KiB for computing block rdd_455_98 in memory.\n",
      "24/04/10 17:53:17 WARN MemoryStore: Not enough space to cache rdd_455_98 in memory! (computed 0.0 B so far)\n",
      "24/04/10 17:53:17 WARN BlockManager: Block rdd_455_98 could not be removed as it was not found on disk or in memory\n",
      "24/04/10 17:53:17 WARN BlockManager: Putting block rdd_455_98 failed\n",
      "24/04/10 17:53:18 WARN MemoryStore: Failed to reserve initial memory threshold of 1024.0 KiB for computing block rdd_455_99 in memory.\n",
      "24/04/10 17:53:18 WARN MemoryStore: Not enough space to cache rdd_455_99 in memory! (computed 0.0 B so far)\n",
      "24/04/10 17:53:18 WARN BlockManager: Block rdd_455_99 could not be removed as it was not found on disk or in memory\n",
      "24/04/10 17:53:18 WARN BlockManager: Putting block rdd_455_99 failed\n",
      "24/04/10 17:58:17 WARN MemoryStore: Not enough space to cache rdd_474_90 in memory! (computed 3.9 MiB so far)\n",
      "24/04/10 17:58:17 WARN BlockManager: Block rdd_474_90 could not be removed as it was not found on disk or in memory\n",
      "24/04/10 17:58:17 WARN BlockManager: Putting block rdd_474_90 failed\n",
      "24/04/10 17:58:18 WARN MemoryStore: Not enough space to cache rdd_474_91 in memory! (computed 3.8 MiB so far)\n",
      "24/04/10 17:58:18 WARN BlockManager: Block rdd_474_91 could not be removed as it was not found on disk or in memory\n",
      "24/04/10 17:58:18 WARN BlockManager: Putting block rdd_474_91 failed\n",
      "24/04/10 17:58:18 WARN MemoryStore: Not enough space to cache rdd_474_92 in memory! (computed 3.9 MiB so far)\n",
      "24/04/10 17:58:18 WARN BlockManager: Block rdd_474_92 could not be removed as it was not found on disk or in memory\n",
      "24/04/10 17:58:18 WARN BlockManager: Putting block rdd_474_92 failed\n",
      "24/04/10 17:58:18 WARN MemoryStore: Not enough space to cache rdd_474_93 in memory! (computed 3.8 MiB so far)\n",
      "24/04/10 17:58:18 WARN BlockManager: Block rdd_474_93 could not be removed as it was not found on disk or in memory\n",
      "24/04/10 17:58:18 WARN BlockManager: Putting block rdd_474_93 failed\n",
      "24/04/10 17:58:18 WARN MemoryStore: Not enough space to cache rdd_474_94 in memory! (computed 4.4 MiB so far)\n",
      "24/04/10 17:58:18 WARN BlockManager: Block rdd_474_94 could not be removed as it was not found on disk or in memory\n",
      "24/04/10 17:58:18 WARN BlockManager: Putting block rdd_474_94 failed\n",
      "24/04/10 17:58:18 WARN MemoryStore: Not enough space to cache rdd_474_95 in memory! (computed 4.2 MiB so far)\n",
      "24/04/10 17:58:18 WARN BlockManager: Block rdd_474_95 could not be removed as it was not found on disk or in memory\n",
      "24/04/10 17:58:18 WARN BlockManager: Putting block rdd_474_95 failed\n",
      "24/04/10 17:58:19 WARN MemoryStore: Not enough space to cache rdd_474_96 in memory! (computed 4.1 MiB so far)\n",
      "24/04/10 17:58:19 WARN BlockManager: Block rdd_474_96 could not be removed as it was not found on disk or in memory\n",
      "24/04/10 17:58:19 WARN BlockManager: Putting block rdd_474_96 failed\n",
      "24/04/10 17:58:19 WARN MemoryStore: Not enough space to cache rdd_474_97 in memory! (computed 4.3 MiB so far)\n",
      "24/04/10 17:58:19 WARN BlockManager: Block rdd_474_97 could not be removed as it was not found on disk or in memory\n",
      "24/04/10 17:58:19 WARN BlockManager: Putting block rdd_474_97 failed\n",
      "24/04/10 17:58:19 WARN MemoryStore: Not enough space to cache rdd_474_98 in memory! (computed 4.0 MiB so far)\n",
      "24/04/10 17:58:19 WARN BlockManager: Block rdd_474_98 could not be removed as it was not found on disk or in memory\n",
      "24/04/10 17:58:19 WARN BlockManager: Putting block rdd_474_98 failed\n",
      "24/04/10 17:58:19 WARN MemoryStore: Not enough space to cache rdd_474_99 in memory! (computed 4.0 MiB so far)\n",
      "24/04/10 17:58:19 WARN BlockManager: Block rdd_474_99 could not be removed as it was not found on disk or in memory\n",
      "24/04/10 17:58:19 WARN BlockManager: Putting block rdd_474_99 failed\n",
      "                                                                                \r"
     ]
    },
    {
     "name": "stdout",
     "output_type": "stream",
     "text": [
      "Iteration:  1  - New pairs:  109741265\n",
      "ccf_iterate_sorting\n"
     ]
    },
    {
     "name": "stderr",
     "output_type": "stream",
     "text": [
      "24/04/10 18:01:42 WARN MemoryStore: Not enough space to cache rdd_474_90 in memory! (computed 3.9 MiB so far)\n",
      "24/04/10 18:01:42 WARN BlockManager: Block rdd_474_90 could not be removed as it was not found on disk or in memory\n",
      "24/04/10 18:01:42 WARN BlockManager: Putting block rdd_474_90 failed\n",
      "24/04/10 18:01:42 WARN MemoryStore: Not enough space to cache rdd_474_91 in memory! (computed 3.8 MiB so far)\n",
      "24/04/10 18:01:42 WARN BlockManager: Block rdd_474_91 could not be removed as it was not found on disk or in memory\n",
      "24/04/10 18:01:42 WARN BlockManager: Putting block rdd_474_91 failed\n",
      "24/04/10 18:01:43 WARN MemoryStore: Not enough space to cache rdd_474_92 in memory! (computed 3.9 MiB so far)\n",
      "24/04/10 18:01:43 WARN BlockManager: Block rdd_474_92 could not be removed as it was not found on disk or in memory\n",
      "24/04/10 18:01:43 WARN BlockManager: Putting block rdd_474_92 failed\n",
      "24/04/10 18:01:43 WARN MemoryStore: Not enough space to cache rdd_474_93 in memory! (computed 3.8 MiB so far)\n",
      "24/04/10 18:01:43 WARN BlockManager: Block rdd_474_93 could not be removed as it was not found on disk or in memory\n",
      "24/04/10 18:01:43 WARN BlockManager: Putting block rdd_474_93 failed\n",
      "24/04/10 18:01:44 WARN MemoryStore: Not enough space to cache rdd_474_94 in memory! (computed 4.4 MiB so far)\n",
      "24/04/10 18:01:44 WARN BlockManager: Block rdd_474_94 could not be removed as it was not found on disk or in memory\n",
      "24/04/10 18:01:44 WARN BlockManager: Putting block rdd_474_94 failed\n",
      "24/04/10 18:01:44 WARN MemoryStore: Not enough space to cache rdd_474_95 in memory! (computed 4.2 MiB so far)\n",
      "24/04/10 18:01:44 WARN BlockManager: Block rdd_474_95 could not be removed as it was not found on disk or in memory\n",
      "24/04/10 18:01:44 WARN BlockManager: Putting block rdd_474_95 failed\n",
      "24/04/10 18:01:44 WARN MemoryStore: Not enough space to cache rdd_474_96 in memory! (computed 4.1 MiB so far)\n",
      "24/04/10 18:01:44 WARN BlockManager: Block rdd_474_96 could not be removed as it was not found on disk or in memory\n",
      "24/04/10 18:01:44 WARN BlockManager: Putting block rdd_474_96 failed\n",
      "24/04/10 18:01:45 WARN MemoryStore: Not enough space to cache rdd_474_97 in memory! (computed 4.3 MiB so far)\n",
      "24/04/10 18:01:45 WARN BlockManager: Block rdd_474_97 could not be removed as it was not found on disk or in memory\n",
      "24/04/10 18:01:45 WARN BlockManager: Putting block rdd_474_97 failed\n",
      "24/04/10 18:01:45 WARN MemoryStore: Not enough space to cache rdd_474_98 in memory! (computed 4.0 MiB so far)\n",
      "24/04/10 18:01:45 WARN BlockManager: Block rdd_474_98 could not be removed as it was not found on disk or in memory\n",
      "24/04/10 18:01:45 WARN BlockManager: Putting block rdd_474_98 failed\n",
      "24/04/10 18:01:45 WARN MemoryStore: Not enough space to cache rdd_474_99 in memory! (computed 4.0 MiB so far)\n",
      "24/04/10 18:01:45 WARN BlockManager: Block rdd_474_99 could not be removed as it was not found on disk or in memory\n",
      "24/04/10 18:01:45 WARN BlockManager: Putting block rdd_474_99 failed\n",
      "24/04/10 18:01:46 WARN MemoryStore: Not enough space to cache rdd_474_90 in memory! (computed 3.9 MiB so far)\n",
      "24/04/10 18:01:46 WARN BlockManager: Block rdd_474_90 could not be removed as it was not found on disk or in memory\n",
      "24/04/10 18:01:46 WARN BlockManager: Putting block rdd_474_90 failed\n",
      "24/04/10 18:01:48 WARN MemoryStore: Not enough space to cache rdd_474_91 in memory! (computed 3.8 MiB so far)\n",
      "24/04/10 18:01:48 WARN BlockManager: Block rdd_474_91 could not be removed as it was not found on disk or in memory\n",
      "24/04/10 18:01:48 WARN BlockManager: Putting block rdd_474_91 failed\n",
      "24/04/10 18:01:49 WARN MemoryStore: Not enough space to cache rdd_474_92 in memory! (computed 3.9 MiB so far)\n",
      "24/04/10 18:01:49 WARN BlockManager: Block rdd_474_92 could not be removed as it was not found on disk or in memory\n",
      "24/04/10 18:01:49 WARN BlockManager: Putting block rdd_474_92 failed\n",
      "24/04/10 18:01:51 WARN MemoryStore: Not enough space to cache rdd_474_93 in memory! (computed 3.8 MiB so far)\n",
      "24/04/10 18:01:51 WARN BlockManager: Block rdd_474_93 could not be removed as it was not found on disk or in memory\n",
      "24/04/10 18:01:51 WARN BlockManager: Putting block rdd_474_93 failed\n",
      "24/04/10 18:01:53 WARN MemoryStore: Not enough space to cache rdd_474_94 in memory! (computed 4.4 MiB so far)\n",
      "24/04/10 18:01:53 WARN BlockManager: Block rdd_474_94 could not be removed as it was not found on disk or in memory\n",
      "24/04/10 18:01:53 WARN BlockManager: Putting block rdd_474_94 failed\n",
      "24/04/10 18:01:55 WARN MemoryStore: Not enough space to cache rdd_474_95 in memory! (computed 4.2 MiB so far)\n",
      "24/04/10 18:01:55 WARN BlockManager: Block rdd_474_95 could not be removed as it was not found on disk or in memory\n",
      "24/04/10 18:01:55 WARN BlockManager: Putting block rdd_474_95 failed\n",
      "24/04/10 18:01:57 WARN MemoryStore: Not enough space to cache rdd_474_96 in memory! (computed 4.1 MiB so far)\n",
      "24/04/10 18:01:57 WARN BlockManager: Block rdd_474_96 could not be removed as it was not found on disk or in memory\n",
      "24/04/10 18:01:57 WARN BlockManager: Putting block rdd_474_96 failed\n",
      "24/04/10 18:01:58 WARN MemoryStore: Not enough space to cache rdd_474_97 in memory! (computed 4.3 MiB so far)\n",
      "24/04/10 18:01:58 WARN BlockManager: Block rdd_474_97 could not be removed as it was not found on disk or in memory\n",
      "24/04/10 18:01:58 WARN BlockManager: Putting block rdd_474_97 failed\n",
      "24/04/10 18:02:00 WARN MemoryStore: Not enough space to cache rdd_474_98 in memory! (computed 4.0 MiB so far)\n",
      "24/04/10 18:02:00 WARN BlockManager: Block rdd_474_98 could not be removed as it was not found on disk or in memory\n",
      "24/04/10 18:02:00 WARN BlockManager: Putting block rdd_474_98 failed\n",
      "24/04/10 18:02:02 WARN MemoryStore: Not enough space to cache rdd_474_99 in memory! (computed 4.0 MiB so far)\n",
      "24/04/10 18:02:02 WARN BlockManager: Block rdd_474_99 could not be removed as it was not found on disk or in memory\n",
      "24/04/10 18:02:02 WARN BlockManager: Putting block rdd_474_99 failed\n",
      "                                                                                \r"
     ]
    },
    {
     "name": "stdout",
     "output_type": "stream",
     "text": [
      "Iteration:  2  - New pairs:  95032863\n",
      "ccf_iterate_sorting\n"
     ]
    },
    {
     "name": "stderr",
     "output_type": "stream",
     "text": [
      "                                                                                \r"
     ]
    },
    {
     "name": "stdout",
     "output_type": "stream",
     "text": [
      "Iteration:  3  - New pairs:  9334607\n",
      "ccf_iterate_sorting\n"
     ]
    },
    {
     "name": "stderr",
     "output_type": "stream",
     "text": [
      "                                                                                \r"
     ]
    },
    {
     "name": "stdout",
     "output_type": "stream",
     "text": [
      "Iteration:  4  - New pairs:  16906\n",
      "ccf_iterate_sorting\n"
     ]
    },
    {
     "name": "stderr",
     "output_type": "stream",
     "text": [
      "                                                                                \r"
     ]
    },
    {
     "name": "stdout",
     "output_type": "stream",
     "text": [
      "Iteration:  5  - New pairs:  44\n",
      "ccf_iterate_sorting\n"
     ]
    },
    {
     "name": "stderr",
     "output_type": "stream",
     "text": [
      "                                                                                \r"
     ]
    },
    {
     "name": "stdout",
     "output_type": "stream",
     "text": [
      "Iteration:  6  - New pairs:  0\n"
     ]
    },
    {
     "name": "stderr",
     "output_type": "stream",
     "text": [
      "[Stage 430:==================================================>  (190 + 1) / 200]\r"
     ]
    },
    {
     "name": "stdout",
     "output_type": "stream",
     "text": [
      "ccf_iterate_sorting took 1961.048485994339 seconds and 6 iterations to complete, and found 914 components in graph:\n"
     ]
    },
    {
     "name": "stderr",
     "output_type": "stream",
     "text": [
      "                                                                                \r"
     ]
    }
   ],
   "source": [
    "# For Livejournal data\n",
    "\n",
    "for method in methods:\n",
    "    result_livejournal, num_iter, n_components, time_taken = find_connected_components(data_livejournal, method)\n",
    "    results[\"Livejournal\"] = [time_taken, num_iter, method]\n",
    "    print(f\"{method.__name__} took {time_taken} seconds and {num_iter} iterations to complete, and found {n_components} components in graph:\")\n",
    "\n"
   ]
  },
  {
   "cell_type": "code",
   "execution_count": 13,
   "metadata": {},
   "outputs": [
    {
     "name": "stderr",
     "output_type": "stream",
     "text": [
      "                                                                                \r"
     ]
    }
   ],
   "source": [
    "# get number of nodes in largest connected component\n",
    "largest_component = result.groupBy(lambda x : x[1]).map(lambda x : len(x[1])).max()"
   ]
  },
  {
   "cell_type": "code",
   "execution_count": 15,
   "metadata": {},
   "outputs": [
    {
     "name": "stdout",
     "output_type": "stream",
     "text": [
      "Number of nodes in largest connected component:  4843952\n"
     ]
    }
   ],
   "source": [
    "print(\"Number of nodes in largest connected component: \", largest_component)"
   ]
  },
  {
   "cell_type": "markdown",
   "metadata": {},
   "source": [
    "# Plot"
   ]
  },
  {
   "cell_type": "markdown",
   "metadata": {},
   "source": [
    "google with normal cff : 468.4991731643677 seconds \n",
    "google with cff with secondary sorting : 517.3975059986115, \n",
    "7 iterations, 2746 components\n",
    "\n",
    "\n",
    "livejournal with normal cff: 1585.754937171936\n",
    "google with cff with secondary sorting :1961.048485994339 ,  \n",
    "6 iterations, 914 components "
   ]
  },
  {
   "cell_type": "code",
   "execution_count": 42,
   "metadata": {},
   "outputs": [
    {
     "data": {
      "image/png": "[encoded data removed]",
      "text/plain": [
       "<Figure size 640x480 with 1 Axes>"
      ]
     },
     "metadata": {},
     "output_type": "display_data"
    }
   ],
   "source": [
    "\n",
    "import matplotlib.pyplot as plt\n",
    "import numpy as np\n",
    "\n",
    "# Manually input the Scala variables here\n",
    "iterations_data = {'Google': 7, 'LiveJournal': 6, 'GoogleSecondarySort':7, 'LiveJournalSecondarySort': 6}\n",
    "time_data = {'Google': 468.4991731643677, 'LiveJournal': 1585.754937171936, 'GoogleSecondarySort': 517.3975059986115, 'LiveJournalSecondarySort': 1961.048485994339}\n",
    "\n",
    "\n",
    "\n",
    "labels = ['Google', 'LiveJournal']\n",
    "iterations = [iterations_data['Google'], iterations_data['LiveJournal']]\n",
    "iterations_improved = [iterations_data['GoogleSecondarySort'], iterations_data['LiveJournalSecondarySort']]\n",
    "times = [time_data['Google'], time_data['LiveJournal']]\n",
    "times_improved = [time_data['GoogleSecondarySort'], time_data['LiveJournalSecondarySort']]\n",
    "\n",
    "x = np.arange(len(labels))  # the label locations\n",
    "width = 0.35  # the width of the bars\n",
    "\n",
    "\n",
    "\n",
    "\n",
    "\n",
    "# Time\n",
    "plt.bar(x - width/2, times, width, label='CCF Iterate')\n",
    "plt.bar(x + width/2, times_improved, width, label='CF Iterate with second sorting')\n",
    "plt.ylabel('Time (seconds)')\n",
    "plt.title('Total Time Taken by Algorithm and Dataset with Spark')\n",
    "plt.xticks(x, labels) \n",
    "\n",
    "fig.tight_layout()\n",
    "plt.show()\n"
   ]
  },
  {
   "cell_type": "code",
   "execution_count": 41,
   "metadata": {},
   "outputs": [
    {
     "data": {
      "image/png": "[encoded data removed]",
      "text/plain": [
       "<Figure size 640x480 with 1 Axes>"
      ]
     },
     "metadata": {},
     "output_type": "display_data"
    }
   ],
   "source": [
    "\n",
    "import matplotlib.pyplot as plt\n",
    "import numpy as np\n",
    "\n",
    "# Manually input the Scala variables here\n",
    "iterations_data = {'Google': 7, 'LiveJournal': 6, 'GoogleSecondarySort':7, 'LiveJournalSecondarySort': 6}\n",
    "time_data = {'Google': 1418.51, 'LiveJournal': 4803.03, 'GoogleSecondarySort': 1255.89, 'LiveJournalSecondarySort': 4782.92}\n",
    "\n",
    "\n",
    "labels = ['Google', 'LiveJournal']\n",
    "iterations = [iterations_data['Google'], iterations_data['LiveJournal']]\n",
    "iterations_improved = [iterations_data['GoogleSecondarySort'], iterations_data['LiveJournalSecondarySort']]\n",
    "times = [time_data['Google'], time_data['LiveJournal']]\n",
    "times_improved = [time_data['GoogleSecondarySort'], time_data['LiveJournalSecondarySort']]\n",
    "\n",
    "x = np.arange(len(labels))  # the label locations\n",
    "width = 0.35  # the width of the bars\n",
    "\n",
    "\n",
    "\n",
    "\n",
    "\n",
    "# Time\n",
    "plt.bar(x - width/2, times, width, label='CCF Iterate')\n",
    "plt.bar(x + width/2, times_improved, width, label='CF Iterate with second sorting')\n",
    "plt.ylabel('Time (seconds)')\n",
    "plt.title('Total Time Taken by Algorithm and Dataset with Scala')\n",
    "plt.xticks(x, labels) \n",
    "\n",
    "fig.tight_layout()\n",
    "plt.show()\n"
   ]
  },
  {
   "cell_type": "code",
   "execution_count": 44,
   "metadata": {},
   "outputs": [
    {
     "data": {
      "image/png": "[encoded data removed]",
      "text/plain": [
       "<Figure size 1000x800 with 1 Axes>"
      ]
     },
     "metadata": {},
     "output_type": "display_data"
    }
   ],
   "source": [
    "cc = result_livejournal.map(lambda x: (x[1], x[0])).groupByKey().mapValues(list)\n",
    "cc = cc.map(lambda x: (len(x[1]), 1)) # key = CC size\n",
    "cc = cc.reduceByKey(lambda x,y: x+y) # value = CC count\n",
    "X = cc.map(lambda x: x[0]).collect()\n",
    "Y = cc.map(lambda x: x[1]).collect()\n",
    "\n",
    "\n",
    "plt.figure(figsize=(10,8))\n",
    "plt.plot(X, Y, 'rx')\n",
    "\n",
    "plt.xscale(\"log\")\n",
    "plt.xlabel(\"Count\")\n",
    "plt.xlim(left=1)  \n",
    "\n",
    "plt.yscale(\"log\")\n",
    "plt.ylabel(\"Size\")\n",
    "plt.ylim(bottom=1)  \n",
    "\n",
    "plt.title('Connected component size distribution for LiveJournal dataset')\n",
    "plt.grid(True)"
   ]
  },
  {
   "cell_type": "code",
   "execution_count": 56,
   "metadata": {},
   "outputs": [
    {
     "name": "stderr",
     "output_type": "stream",
     "text": [
      "                                                                                \r"
     ]
    },
    {
     "data": {
      "image/png": "[encoded data removed]",
      "text/plain": [
       "<Figure size 1000x800 with 1 Axes>"
      ]
     },
     "metadata": {},
     "output_type": "display_data"
    }
   ],
   "source": [
    "cc = result_google.map(lambda x: (x[1], x[0])).groupByKey().mapValues(list)\n",
    "cc = cc.map(lambda x: (len(x[1]), 1)) # key = CC size\n",
    "cc = cc.reduceByKey(lambda x,y: x+y) # value = CC count\n",
    "X = cc.map(lambda x: x[0]).collect()\n",
    "Y = cc.map(lambda x: x[1]).collect()\n",
    "\n",
    "\n",
    "plt.figure(figsize=(10,8))\n",
    "plt.plot(X, Y, 'rx')\n",
    "\n",
    "plt.xscale(\"log\")\n",
    "plt.xlabel(\"Count\")\n",
    "plt.xlim(left=1)  \n",
    "\n",
    "plt.yscale(\"log\")\n",
    "plt.ylabel(\"Size\")\n",
    "plt.ylim(bottom=1)  \n",
    "\n",
    "plt.title('Connected component size distribution for LiveJournal dataset')\n",
    "plt.grid(True)"
   ]
  },
  {
   "cell_type": "code",
   "execution_count": 48,
   "metadata": {},
   "outputs": [],
   "source": [
    "sc.stop()"
   ]
  },
  {
   "cell_type": "code",
   "execution_count": null,
   "metadata": {},
   "outputs": [],
   "source": []
  }
 ],
 "metadata": {
  "kernelspec": {
   "display_name": "Python 3 (ipykernel)",
   "language": "python",
   "name": "python3"
  },
  "language_info": {
   "codemirror_mode": {
    "name": "ipython",
    "version": 3
   },
   "file_extension": ".py",
   "mimetype": "text/x-python",
   "name": "python",
   "nbconvert_exporter": "python",
   "pygments_lexer": "ipython3",
   "version": "3.11.7"
  }
 },
 "nbformat": 4,
 "nbformat_minor": 4
}
